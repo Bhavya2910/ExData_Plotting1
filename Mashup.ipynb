{
  "nbformat": 4,
  "nbformat_minor": 0,
  "metadata": {
    "colab": {
      "provenance": [],
      "authorship_tag": "ABX9TyO9WgoESIOkoAta7h848fBJ",
      "include_colab_link": true
    },
    "kernelspec": {
      "name": "python3",
      "display_name": "Python 3"
    },
    "language_info": {
      "name": "python"
    }
  },
  "cells": [
    {
      "cell_type": "markdown",
      "metadata": {
        "id": "view-in-github",
        "colab_type": "text"
      },
      "source": [
        "<a href=\"https://colab.research.google.com/github/Bhavya2910/ExData_Plotting1/blob/master/Mashup.ipynb\" target=\"_parent\"><img src=\"https://colab.research.google.com/assets/colab-badge.svg\" alt=\"Open In Colab\"/></a>"
      ]
    },
    {
      "cell_type": "code",
      "execution_count": null,
      "metadata": {
        "id": "-_9nvfFjjcdF"
      },
      "outputs": [],
      "source": [
        "#!pip install pytube moviepy youtube-search-python pydub\n"
      ]
    },
    {
      "cell_type": "code",
      "source": [
        "import os\n",
        "from pytube import YouTube\n",
        "from moviepy.video.io.VideoFileClip import VideoFileClip\n",
        "from moviepy.audio.io.AudioFileClip import AudioFileClip\n",
        "from moviepy.editor import concatenate_videoclips\n",
        "from pydub import AudioSegment\n",
        "import logging\n",
        "from youtubesearchpython import VideosSearch\n"
      ],
      "metadata": {
        "id": "2zNyN8vqjss-"
      },
      "execution_count": null,
      "outputs": []
    },
    {
      "cell_type": "code",
      "source": [
        "import smtplib\n",
        "from email.message import EmailMessage\n",
        "import zipfile\n"
      ],
      "metadata": {
        "id": "xXO15HhknBTU"
      },
      "execution_count": null,
      "outputs": []
    },
    {
      "cell_type": "code",
      "source": [
        "\n",
        "def download_videos(singer, n):\n",
        "    videos = []\n",
        "    query = f\"{singer} official songs\"\n",
        "\n",
        "    try:\n",
        "        video_search = VideosSearch(query, limit=n)\n",
        "        results = video_search.result()\n",
        "\n",
        "        for video in results['result']:\n",
        "            video_title = video[\"title\"]\n",
        "\n",
        "\n",
        "            if 'PLAYLIST' not in video_title.upper():\n",
        "                video_url = f'https://www.youtube.com/watch?v={video[\"id\"]}'\n",
        "                yt_video = YouTube(video_url)\n",
        "                stream = yt_video.streams.filter(file_extension='mp4').first()\n",
        "                stream.download()\n",
        "                videos.append(stream.title)\n",
        "\n",
        "                if len(videos) > n:\n",
        "                    break\n",
        "\n",
        "    except Exception as e:\n",
        "        print(f\"Error: {e}\")\n",
        "\n",
        "    return videos\n"
      ],
      "metadata": {
        "id": "U1kwKQ7Ysro4"
      },
      "execution_count": null,
      "outputs": []
    },
    {
      "cell_type": "code",
      "source": [
        "\n",
        "def convert_to_audio(video_path):\n",
        "    try:\n",
        "        if os.path.exists(video_path):\n",
        "            audio_path = os.path.splitext(video_path)[0] + \".mp3\"\n",
        "            clip = VideoFileClip(video_path)\n",
        "            clip.audio.write_audiofile(audio_path)\n",
        "            return audio_path\n",
        "        else:\n",
        "            print(f\"Error converting video to audio: Video file not found - {video_path}\")\n",
        "            return None\n",
        "    except Exception as e:\n",
        "        print(f\"Error converting video to audio: {e}\")\n",
        "        return None\n"
      ],
      "metadata": {
        "id": "3dLJeGsDsuTT"
      },
      "execution_count": null,
      "outputs": []
    },
    {
      "cell_type": "code",
      "source": [
        "\n",
        "def cut_audio(audio_path, y):\n",
        "    try:\n",
        "        if os.path.exists(audio_path):\n",
        "            cut_audio_path = os.path.splitext(audio_path)[0] + \"_cut.mp3\"\n",
        "            clip = AudioFileClip(audio_path)\n",
        "            cut_clip = clip.subclip(0, min(y, clip.duration))\n",
        "            cut_clip.write_audiofile(cut_audio_path)\n",
        "            return cut_audio_path\n",
        "        else:\n",
        "            print(f\"Error cutting audio: Audio file not found - {audio_path}\")\n",
        "            return None\n",
        "    except Exception as e:\n",
        "        print(f\"Error cutting audio: {e}\")\n",
        "        return None\n"
      ],
      "metadata": {
        "id": "S1SbqIrJs6A-"
      },
      "execution_count": null,
      "outputs": []
    },
    {
      "cell_type": "code",
      "source": [
        "\n",
        "def merge_audios(audio_files, output_path):\n",
        "    try:\n",
        "        audio_segments = [AudioSegment.from_file(audio_file, format=\"mp3\") for audio_file in audio_files if audio_file is not None and os.path.exists(audio_file)]\n",
        "        if audio_segments:\n",
        "            final_segment = sum(audio_segments)\n",
        "            final_segment.export(output_path, format=\"mp3\")\n",
        "            print(\"Audio files merged successfully.\")\n",
        "        else:\n",
        "            print(\"No valid audio files to merge.\")\n",
        "    except Exception as e:\n",
        "        print(f\"Error merging audio files: {e}\")\n"
      ],
      "metadata": {
        "id": "Iktp1qbLs7Jd"
      },
      "execution_count": null,
      "outputs": []
    },
    {
      "cell_type": "code",
      "source": [
        "import os\n",
        "def send_email_with_zip(zip_file_path, email_id):\n",
        "    try:\n",
        "        msg = EmailMessage()\n",
        "        msg.set_content(\"Please find the attached zip file.\")\n",
        "\n",
        "        msg['Subject'] = 'Merged Audio Files'\n",
        "        msg['From'] = 'bhhavyagoyal243@gmail.com'  # Your Gmail email address\n",
        "        msg['To'] = email_id\n",
        "\n",
        "        with open(zip_file_path, 'rb') as file:\n",
        "            file_data = file.read()\n",
        "            msg.add_attachment(file_data, maintype='application', subtype='zip', filename='merged_files.zip')\n",
        "\n",
        "        with smtplib.SMTP('smtp.gmail.com', 587) as server:\n",
        "            server.starttls()\n",
        "            server.login('bhhavyagoyal243@gmail.com', 'bwni tiwz btjw jzbi')  # Replace with your Gmail email and password\n",
        "            server.send_message(msg)\n",
        "\n",
        "        print(\"Email sent successfully.\")\n",
        "    except Exception as e:\n",
        "        print(f\"Error sending email: {e}\")\n"
      ],
      "metadata": {
        "id": "PsDN8DNbnILZ"
      },
      "execution_count": null,
      "outputs": []
    },
    {
      "cell_type": "code",
      "source": [
        "\n",
        "def main():\n",
        "    singer = input(\"Enter singer name: \")\n",
        "    n = int(input(\"Enter the number of videos to download: \"))\n",
        "    y = int(input(\"Enter the duration of each video (in seconds): \"))\n",
        "    email_id = input(\"Enter your email address: \")\n",
        "\n",
        "    videos = download_videos(singer, n)\n",
        "    audio_files = []\n",
        "\n",
        "    for video_title in videos:\n",
        "        video_path = video_title + \".mp4\"\n",
        "        audio_path = convert_to_audio(video_path)\n",
        "\n",
        "        if audio_path:\n",
        "            cut_audio_path = cut_audio(audio_path, y)\n",
        "            if cut_audio_path:\n",
        "                audio_files.append(cut_audio_path)\n",
        "\n",
        "    if audio_files:\n",
        "        output_path = f\"{singer}_merged_output.mp3\"\n",
        "        merge_audios(audio_files, output_path)\n",
        "\n",
        "        # Create a zip file\n",
        "        zip_file_path = f\"{singer}_merged_files.zip\"\n",
        "        with zipfile.ZipFile(zip_file_path, 'w') as zip_file:\n",
        "            for audio_file in audio_files:\n",
        "                zip_file.write(audio_file)\n",
        "\n",
        "        # Send email with the zip file\n",
        "        send_email_with_zip(zip_file_path, email_id)\n",
        "\n",
        "        print(\"Task completed successfully.\")\n",
        "    else:\n",
        "        logging.warning(\"No valid audio files to process.\")\n",
        "\n",
        "\n",
        "if __name__ == \"__main__\":\n",
        "    main()"
      ],
      "metadata": {
        "colab": {
          "base_uri": "https://localhost:8080/"
        },
        "id": "WQnq9TGD8zAI",
        "outputId": "fa049ae6-a134-4825-d415-144c95996936"
      },
      "execution_count": null,
      "outputs": [
        {
          "output_type": "stream",
          "name": "stdout",
          "text": [
            "Enter singer name: BTS\n",
            "Enter the number of videos to download: 2\n",
            "Enter the duration of each video (in seconds): 10\n",
            "Enter your email address: bhavyagoyal987@gmail.com\n",
            "MoviePy - Writing audio in Dynamite.mp3\n"
          ]
        },
        {
          "output_type": "stream",
          "name": "stderr",
          "text": []
        },
        {
          "output_type": "stream",
          "name": "stdout",
          "text": [
            "MoviePy - Done.\n",
            "MoviePy - Writing audio in Dynamite_cut.mp3\n"
          ]
        },
        {
          "output_type": "stream",
          "name": "stderr",
          "text": []
        },
        {
          "output_type": "stream",
          "name": "stdout",
          "text": [
            "MoviePy - Done.\n",
            "MoviePy - Writing audio in Life Goes On.mp3\n"
          ]
        },
        {
          "output_type": "stream",
          "name": "stderr",
          "text": []
        },
        {
          "output_type": "stream",
          "name": "stdout",
          "text": [
            "MoviePy - Done.\n",
            "MoviePy - Writing audio in Life Goes On_cut.mp3\n"
          ]
        },
        {
          "output_type": "stream",
          "name": "stderr",
          "text": []
        },
        {
          "output_type": "stream",
          "name": "stdout",
          "text": [
            "MoviePy - Done.\n",
            "Audio files merged successfully.\n",
            "Email sent successfully.\n",
            "Task completed successfully.\n"
          ]
        }
      ]
    }
  ]
}